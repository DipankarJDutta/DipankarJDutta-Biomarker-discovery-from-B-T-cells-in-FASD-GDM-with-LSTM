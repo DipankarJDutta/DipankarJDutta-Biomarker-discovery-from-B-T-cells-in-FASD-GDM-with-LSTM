{
  "nbformat": 4,
  "nbformat_minor": 0,
  "metadata": {
    "colab": {
      "name": "LSTM_B-T-Median.ipynb",
      "provenance": [],
      "authorship_tag": "ABX9TyMyKpATaoD4Lma2XeGyPbeX",
      "include_colab_link": true
    },
    "kernelspec": {
      "name": "python3",
      "display_name": "Python 3"
    },
    "accelerator": "TPU"
  },
  "cells": [
    {
      "cell_type": "markdown",
      "metadata": {
        "id": "view-in-github",
        "colab_type": "text"
      },
      "source": [
        "<a href=\"https://colab.research.google.com/github/DipankarJDutta/DipankarJDutta-Biomarker-discovery-from-B-T-cells-in-FASD-GDM-with-LSTM/blob/Feature-extraction-with-Shap/LSTM_B_T_Median_optimized%20model_SHAP%20feature%20extraction.ipynb\" target=\"_parent\"><img src=\"https://colab.research.google.com/assets/colab-badge.svg\" alt=\"Open In Colab\"/></a>"
      ]
    },
    {
      "cell_type": "code",
      "metadata": {
        "id": "Gtln1yJhgk6t",
        "colab_type": "code",
        "colab": {}
      },
      "source": [
        "#Don't display \"warnings\"\n",
        "def warn(*args, **kwargs):\n",
        "    pass\n",
        "import warnings\n",
        "warnings.warn = warn"
      ],
      "execution_count": 0,
      "outputs": []
    },
    {
      "cell_type": "code",
      "metadata": {
        "id": "9fgAhSJ9ZjsB",
        "colab_type": "code",
        "outputId": "51c555f2-6b15-48f8-9ce6-082f527f4b86",
        "colab": {
          "base_uri": "https://localhost:8080/",
          "height": 187
        }
      },
      "source": [
        "#Installing SHAP (SHapley Additive exPlanations)\n",
        "!pip install shap"
      ],
      "execution_count": 17,
      "outputs": [
        {
          "output_type": "stream",
          "text": [
            "Requirement already satisfied: shap in /usr/local/lib/python3.6/dist-packages (0.34.0)\n",
            "Requirement already satisfied: scikit-learn in /usr/local/lib/python3.6/dist-packages (from shap) (0.22.1)\n",
            "Requirement already satisfied: scipy in /usr/local/lib/python3.6/dist-packages (from shap) (1.4.1)\n",
            "Requirement already satisfied: numpy in /usr/local/lib/python3.6/dist-packages (from shap) (1.17.5)\n",
            "Requirement already satisfied: tqdm>4.25.0 in /usr/local/lib/python3.6/dist-packages (from shap) (4.28.1)\n",
            "Requirement already satisfied: pandas in /usr/local/lib/python3.6/dist-packages (from shap) (0.25.3)\n",
            "Requirement already satisfied: joblib>=0.11 in /usr/local/lib/python3.6/dist-packages (from scikit-learn->shap) (0.14.1)\n",
            "Requirement already satisfied: pytz>=2017.2 in /usr/local/lib/python3.6/dist-packages (from pandas->shap) (2018.9)\n",
            "Requirement already satisfied: python-dateutil>=2.6.1 in /usr/local/lib/python3.6/dist-packages (from pandas->shap) (2.6.1)\n",
            "Requirement already satisfied: six>=1.5 in /usr/local/lib/python3.6/dist-packages (from python-dateutil>=2.6.1->pandas->shap) (1.12.0)\n"
          ],
          "name": "stdout"
        }
      ]
    },
    {
      "cell_type": "code",
      "metadata": {
        "id": "sbH2HphdaLNF",
        "colab_type": "code",
        "colab": {}
      },
      "source": [
        "#Import SHAP specific essentials\n",
        "from __future__ import print_function\n",
        "from keras.preprocessing import sequence\n",
        "from keras.layers import Embedding\n"
      ],
      "execution_count": 0,
      "outputs": []
    },
    {
      "cell_type": "code",
      "metadata": {
        "id": "MfPN8Hkp_22L",
        "colab_type": "code",
        "colab": {}
      },
      "source": [
        "# Loading essentials\n",
        "from numpy import loadtxt\n",
        "from numpy import reshape\n",
        "from numpy import array\n",
        "from keras.models import Sequential\n",
        "from keras.layers import LSTM\n",
        "from keras.layers import Dense"
      ],
      "execution_count": 0,
      "outputs": []
    },
    {
      "cell_type": "code",
      "metadata": {
        "id": "zN3LIBHE9XH0",
        "colab_type": "code",
        "colab": {}
      },
      "source": [
        "# Fixing random seed to 007 for reproducibility\n",
        "from numpy.random import seed\n",
        "seed(7)\n",
        "from tensorflow import set_random_seed\n",
        "set_random_seed(7)"
      ],
      "execution_count": 0,
      "outputs": []
    },
    {
      "cell_type": "code",
      "metadata": {
        "id": "XMq2vKCJNlmL",
        "colab_type": "code",
        "colab": {}
      },
      "source": [
        "# Load data\n",
        "dataset = loadtxt('B-T-median.csv', delimiter = ',')"
      ],
      "execution_count": 0,
      "outputs": []
    },
    {
      "cell_type": "code",
      "metadata": {
        "id": "Hf6EYfq1OSND",
        "colab_type": "code",
        "colab": {}
      },
      "source": [
        "# Reshape 2D dataset into a 3D dataset with columns as features with one time-step\n",
        "x = dataset.reshape(56, 1, 30)"
      ],
      "execution_count": 0,
      "outputs": []
    },
    {
      "cell_type": "code",
      "metadata": {
        "id": "TbfEdKabnlcK",
        "colab_type": "code",
        "colab": {}
      },
      "source": [
        "#Specify binary output of good (1) and bad (0) learners, y, in x. Learner type differentiated by population median.\n",
        "y = x [:, :, -1]"
      ],
      "execution_count": 0,
      "outputs": []
    },
    {
      "cell_type": "code",
      "metadata": {
        "id": "yBx8zDJlVjje",
        "colab_type": "code",
        "colab": {}
      },
      "source": [
        "# Define LSTM One-to-One Model with 3 LSTM cells (determined via hyperparameter optimization). Sigmoid activation on the output layer for binary classification.\n",
        "model = Sequential()\n",
        "model.add(LSTM(3, input_shape=(1,30)))\n",
        "model.add(Dense(1, activation='sigmoid'))"
      ],
      "execution_count": 0,
      "outputs": []
    },
    {
      "cell_type": "code",
      "metadata": {
        "id": "S1vO6vpKmAgb",
        "colab_type": "code",
        "colab": {}
      },
      "source": [
        "# Compile the model \n",
        "model.compile(optimizer='adam', loss='binary_crossentropy', metrics=['accuracy'])"
      ],
      "execution_count": 0,
      "outputs": []
    },
    {
      "cell_type": "code",
      "metadata": {
        "id": "x30BNEbImxA5",
        "colab_type": "code",
        "outputId": "3193045f-8e8b-4c4d-b1b8-30689a4b9f37",
        "colab": {
          "base_uri": "https://localhost:8080/",
          "height": 34
        }
      },
      "source": [
        "#Fit the model with a 80-20 split of dataset & shuffling sample order within an epoch. Batch size updated to 8 to be an even factor of sample size of 56.\n",
        "model.fit(x, y, validation_split = 0.2, batch_size = 8, epochs = 1000, shuffle = True, verbose=0)"
      ],
      "execution_count": 26,
      "outputs": [
        {
          "output_type": "execute_result",
          "data": {
            "text/plain": [
              "<keras.callbacks.History at 0x7f771e7d8780>"
            ]
          },
          "metadata": {
            "tags": []
          },
          "execution_count": 26
        }
      ]
    },
    {
      "cell_type": "code",
      "metadata": {
        "id": "KBLgWjiCbngG",
        "colab_type": "code",
        "colab": {}
      },
      "source": [
        "#Explain model with DeepExplainer from SHAP\n",
        "import sklearn\n",
        "import shap\n",
        "explainer = shap.DeepExplainer(model, x)\n",
        "shap_values = explainer.shap_values(y)"
      ],
      "execution_count": 0,
      "outputs": []
    }
  ]
}