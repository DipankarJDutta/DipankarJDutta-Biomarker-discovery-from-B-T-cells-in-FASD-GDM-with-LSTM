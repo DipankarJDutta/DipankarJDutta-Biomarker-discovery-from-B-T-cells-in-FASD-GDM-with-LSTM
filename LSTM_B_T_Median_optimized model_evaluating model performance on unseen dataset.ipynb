{
  "nbformat": 4,
  "nbformat_minor": 0,
  "metadata": {
    "colab": {
      "name": "LSTM_B-T-Median.ipynb",
      "provenance": [],
      "authorship_tag": "ABX9TyMFVx16ymO/WDTl7PHe7Pwp",
      "include_colab_link": true
    },
    "kernelspec": {
      "name": "python3",
      "display_name": "Python 3"
    },
    "accelerator": "TPU"
  },
  "cells": [
    {
      "cell_type": "markdown",
      "metadata": {
        "id": "view-in-github",
        "colab_type": "text"
      },
      "source": [
        "<a href=\"https://colab.research.google.com/github/DipankarJDutta/DipankarJDutta-Biomarker-discovery-from-B-T-cells-in-FASD-GDM-with-LSTM/blob/Evaluating-Model-Performance/LSTM_B_T_Median_optimized%20model_evaluating%20model%20performance%20on%20unseen%20dataset.ipynb\" target=\"_parent\"><img src=\"https://colab.research.google.com/assets/colab-badge.svg\" alt=\"Open In Colab\"/></a>"
      ]
    },
    {
      "cell_type": "code",
      "metadata": {
        "id": "Gtln1yJhgk6t",
        "colab_type": "code",
        "colab": {}
      },
      "source": [
        "#Don't display \"warnings\"\n",
        "def warn(*args, **kwargs):\n",
        "    pass\n",
        "import warnings\n",
        "warnings.warn = warn"
      ],
      "execution_count": 0,
      "outputs": []
    },
    {
      "cell_type": "code",
      "metadata": {
        "id": "MfPN8Hkp_22L",
        "colab_type": "code",
        "colab": {}
      },
      "source": [
        "# Loading essentials\n",
        "from numpy import loadtxt\n",
        "from numpy import reshape\n",
        "from numpy import array\n",
        "from keras.models import Sequential\n",
        "from keras.layers import LSTM\n",
        "from keras.layers import Dense"
      ],
      "execution_count": 0,
      "outputs": []
    },
    {
      "cell_type": "code",
      "metadata": {
        "id": "zN3LIBHE9XH0",
        "colab_type": "code",
        "colab": {}
      },
      "source": [
        "# Fixing random seed to 007 for reproducibility\n",
        "from numpy.random import seed\n",
        "seed(7)\n",
        "from tensorflow import set_random_seed\n",
        "set_random_seed(7)"
      ],
      "execution_count": 0,
      "outputs": []
    },
    {
      "cell_type": "code",
      "metadata": {
        "id": "XMq2vKCJNlmL",
        "colab_type": "code",
        "colab": {}
      },
      "source": [
        "# Load curtailed test-only dataset with 12 samples.\n",
        "dataset = loadtxt('B-T-median_test-only.csv', delimiter = ',')"
      ],
      "execution_count": 0,
      "outputs": []
    },
    {
      "cell_type": "code",
      "metadata": {
        "id": "Hf6EYfq1OSND",
        "colab_type": "code",
        "colab": {}
      },
      "source": [
        "# Reshape 2D dataset into a 3D dataset with columns as features with one time-step\n",
        "x = dataset.reshape(12, 1, 30)"
      ],
      "execution_count": 0,
      "outputs": []
    },
    {
      "cell_type": "code",
      "metadata": {
        "id": "TbfEdKabnlcK",
        "colab_type": "code",
        "outputId": "ba015595-872b-4694-c2ad-ebc64b26c41b",
        "colab": {
          "base_uri": "https://localhost:8080/",
          "height": 221
        }
      },
      "source": [
        "#Specify true binary output of good (1) and bad (0) learners, y_true, in x.\n",
        "y_true = x [:, :, -1]\n",
        "print (y_true)"
      ],
      "execution_count": 52,
      "outputs": [
        {
          "output_type": "stream",
          "text": [
            "[[1.]\n",
            " [1.]\n",
            " [0.]\n",
            " [1.]\n",
            " [0.]\n",
            " [0.]\n",
            " [0.]\n",
            " [0.]\n",
            " [1.]\n",
            " [1.]\n",
            " [1.]\n",
            " [0.]]\n"
          ],
          "name": "stdout"
        }
      ]
    },
    {
      "cell_type": "code",
      "metadata": {
        "id": "yBx8zDJlVjje",
        "colab_type": "code",
        "colab": {}
      },
      "source": [
        "#Load saved keras LSTM Model (trained on 44 train-only samples)\n",
        "from keras.models import load_model\n",
        "model = load_model('B-T-median_LSTM_train-only.h5')"
      ],
      "execution_count": 0,
      "outputs": []
    },
    {
      "cell_type": "code",
      "metadata": {
        "id": "wxW02XnmmfAD",
        "colab_type": "code",
        "outputId": "36048ffa-2930-4a60-e4c6-ee40d4b5a9f2",
        "colab": {
          "base_uri": "https://localhost:8080/",
          "height": 34
        }
      },
      "source": [
        "#Evaluate the model\n",
        "evaluate = model.evaluate(x, y_true, verbose=1)"
      ],
      "execution_count": 54,
      "outputs": [
        {
          "output_type": "stream",
          "text": [
            "\r12/12 [==============================] - 0s 22ms/step\n"
          ],
          "name": "stdout"
        }
      ]
    },
    {
      "cell_type": "code",
      "metadata": {
        "id": "_1IyKlDSm0rv",
        "colab_type": "code",
        "outputId": "95cd9a9d-b661-4588-ce80-7fad3af3e941",
        "colab": {
          "base_uri": "https://localhost:8080/",
          "height": 221
        }
      },
      "source": [
        "# Make predictions\n",
        "y_pred = model.predict_classes(x)\n",
        "print (y_pred)"
      ],
      "execution_count": 55,
      "outputs": [
        {
          "output_type": "stream",
          "text": [
            "[[1]\n",
            " [1]\n",
            " [0]\n",
            " [1]\n",
            " [0]\n",
            " [0]\n",
            " [0]\n",
            " [0]\n",
            " [1]\n",
            " [1]\n",
            " [1]\n",
            " [0]]\n"
          ],
          "name": "stdout"
        }
      ]
    },
    {
      "cell_type": "code",
      "metadata": {
        "id": "-Pjq1tADpohW",
        "colab_type": "code",
        "outputId": "32f57775-46cc-4882-e00e-03214306ba3b",
        "colab": {
          "base_uri": "https://localhost:8080/",
          "height": 51
        }
      },
      "source": [
        "# Determine and print Confusion Matrix (Present true positive (tp), true negative (tn), false positive (fp) and false negative (fn) predictions as a 2 X 2 matrix. Y-axis shows the true classes while the X-axis shows the predicted classes.)\n",
        "from sklearn.metrics import confusion_matrix\n",
        "confusion_matrix(y_true, y_pred)"
      ],
      "execution_count": 56,
      "outputs": [
        {
          "output_type": "execute_result",
          "data": {
            "text/plain": [
              "array([[6, 0],\n",
              "       [0, 6]])"
            ]
          },
          "metadata": {
            "tags": []
          },
          "execution_count": 56
        }
      ]
    },
    {
      "cell_type": "code",
      "metadata": {
        "id": "4PHT82vJqmCe",
        "colab_type": "code",
        "outputId": "6ed505de-2d37-4e89-ddbf-12752f06afe6",
        "colab": {
          "base_uri": "https://localhost:8080/",
          "height": 34
        }
      },
      "source": [
        "# Determine and print Accuracy (how many observations, both positive and negative, were correctly classified?)\n",
        "from sklearn.metrics import accuracy_score\n",
        "accuracy_score(y_true, y_pred)"
      ],
      "execution_count": 57,
      "outputs": [
        {
          "output_type": "execute_result",
          "data": {
            "text/plain": [
              "1.0"
            ]
          },
          "metadata": {
            "tags": []
          },
          "execution_count": 57
        }
      ]
    },
    {
      "cell_type": "code",
      "metadata": {
        "id": "PccDEOKZq7KS",
        "colab_type": "code",
        "outputId": "6592f966-3211-4161-e929-185d59f794f8",
        "colab": {
          "base_uri": "https://localhost:8080/",
          "height": 34
        }
      },
      "source": [
        "# Determine and print Recall (how many observations out of all positive observations have been classified as positive/True Positive Rate)\n",
        "from sklearn.metrics import recall_score\n",
        "recall_score(y_true, y_pred)"
      ],
      "execution_count": 58,
      "outputs": [
        {
          "output_type": "execute_result",
          "data": {
            "text/plain": [
              "1.0"
            ]
          },
          "metadata": {
            "tags": []
          },
          "execution_count": 58
        }
      ]
    },
    {
      "cell_type": "code",
      "metadata": {
        "id": "IuWgZ-dWraT9",
        "colab_type": "code",
        "outputId": "7b0fcd93-b0bd-4840-ee2d-a5624774df67",
        "colab": {
          "base_uri": "https://localhost:8080/",
          "height": 34
        }
      },
      "source": [
        "#Determine and print Precision (how many observations predicted as positive are in fact positive?)\n",
        "from sklearn.metrics import precision_score\n",
        "precision_score(y_true, y_pred)"
      ],
      "execution_count": 59,
      "outputs": [
        {
          "output_type": "execute_result",
          "data": {
            "text/plain": [
              "1.0"
            ]
          },
          "metadata": {
            "tags": []
          },
          "execution_count": 59
        }
      ]
    },
    {
      "cell_type": "code",
      "metadata": {
        "id": "iHqoBwvSr5tU",
        "colab_type": "code",
        "outputId": "c7d6b6ab-04ca-41a4-a3f2-80d25ee9f1a0",
        "colab": {
          "base_uri": "https://localhost:8080/",
          "height": 616
        }
      },
      "source": [
        "# Make pretty Confusion Matrix with Seaborn\n",
        "import matplotlib.pyplot as plt\n",
        "import seaborn as sns\n",
        "fig = plt.figure(figsize=(10,10))\n",
        "ylabels=['True Bad Learner', 'True Good Learner']\n",
        "xlabels=['Predicted Bad Learner', 'Predicted Good Learner']\n",
        "cm = confusion_matrix(y_true, y_pred)\n",
        "ax = sns.heatmap(cm, annot=True, cmap='Blues', annot_kws= {'size':25}, xticklabels=xlabels, fmt='g', yticklabels=ylabels)\n",
        "bottom, top = ax.get_ylim()\n",
        "ax.axes.set_title(\"Confusion Matrix\", fontsize=25)\n",
        "plt.savefig ('confusion-matrix_LSTM predictions.svg', format = 'svg')\n",
        "plt.show()"
      ],
      "execution_count": 79,
      "outputs": [
        {
          "output_type": "display_data",
          "data": {
            "image/png": "[encoded data removed]",
            "text/plain": [
              "<Figure size 720x720 with 2 Axes>"
            ]
          },
          "metadata": {
            "tags": []
          }
        }
      ]
    },
    {
      "cell_type": "code",
      "metadata": {
        "id": "8jKiLVbkuwTZ",
        "colab_type": "code",
        "outputId": "2571de51-bc1e-4905-f23f-d765804673c5",
        "colab": {
          "base_uri": "https://localhost:8080/",
          "height": 34
        }
      },
      "source": [
        "# Determine and print F1 Score (It combines precision and recall into one metric. The higher the score the better our model is)\n",
        "from sklearn.metrics import f1_score\n",
        "f1_score(y_true, y_pred, average=None)"
      ],
      "execution_count": 61,
      "outputs": [
        {
          "output_type": "execute_result",
          "data": {
            "text/plain": [
              "array([1., 1.])"
            ]
          },
          "metadata": {
            "tags": []
          },
          "execution_count": 61
        }
      ]
    },
    {
      "cell_type": "code",
      "metadata": {
        "id": "n9AHXv_4-F-L",
        "colab_type": "code",
        "outputId": "13ff00d1-8ef3-46b4-bf77-74fd08830a60",
        "colab": {
          "base_uri": "https://localhost:8080/",
          "height": 34
        }
      },
      "source": [
        "# Determine and print F1 beta Score (analogous to F1 Score above)\n",
        "from sklearn.metrics import fbeta_score\n",
        "fbeta_score(y_true, y_pred, beta=1)"
      ],
      "execution_count": 62,
      "outputs": [
        {
          "output_type": "execute_result",
          "data": {
            "text/plain": [
              "1.0"
            ]
          },
          "metadata": {
            "tags": []
          },
          "execution_count": 62
        }
      ]
    },
    {
      "cell_type": "code",
      "metadata": {
        "id": "LLC3OoaHzKiN",
        "colab_type": "code",
        "outputId": "15540033-8145-4c91-c39a-6baa08325d21",
        "colab": {
          "base_uri": "https://localhost:8080/",
          "height": 170
        }
      },
      "source": [
        "# Classification report\n",
        "from sklearn.metrics import classification_report\n",
        "print(classification_report(y_true, y_pred))"
      ],
      "execution_count": 63,
      "outputs": [
        {
          "output_type": "stream",
          "text": [
            "              precision    recall  f1-score   support\n",
            "\n",
            "         0.0       1.00      1.00      1.00         6\n",
            "         1.0       1.00      1.00      1.00         6\n",
            "\n",
            "    accuracy                           1.00        12\n",
            "   macro avg       1.00      1.00      1.00        12\n",
            "weighted avg       1.00      1.00      1.00        12\n",
            "\n"
          ],
          "name": "stdout"
        }
      ]
    },
    {
      "cell_type": "code",
      "metadata": {
        "id": "J1ezFzQmzZwQ",
        "colab_type": "code",
        "outputId": "6f15626f-0f39-42f2-d38f-bc9ca56dbdc0",
        "colab": {
          "base_uri": "https://localhost:8080/",
          "height": 34
        }
      },
      "source": [
        "# AUC-ROC Curve (It is a chart that visualizes the tradeoff between true positive rate (TPR) and false positive rate (FPR))\n",
        "import numpy as np\n",
        "from sklearn.metrics import roc_auc_score\n",
        "y_true = np.array(y_true)\n",
        "y_scores = np.array(y_pred)\n",
        "roc_auc_score(y_true, y_pred)\n"
      ],
      "execution_count": 64,
      "outputs": [
        {
          "output_type": "execute_result",
          "data": {
            "text/plain": [
              "1.0"
            ]
          },
          "metadata": {
            "tags": []
          },
          "execution_count": 64
        }
      ]
    },
    {
      "cell_type": "code",
      "metadata": {
        "id": "djlz7QTl47Jf",
        "colab_type": "code",
        "outputId": "8524a332-5e31-4fbb-aa86-6ca4dcbe3566",
        "colab": {
          "base_uri": "https://localhost:8080/",
          "height": 34
        }
      },
      "source": [
        "# Determine and Print False Positive Rate or Type I Error (How many negative observations have been classified as positive?)\n",
        "tn, fp, fn, tp = confusion_matrix(y_true, y_pred).ravel()\n",
        "false_positive_rate = fp / (fp + tn)\n",
        "print (false_positive_rate)"
      ],
      "execution_count": 65,
      "outputs": [
        {
          "output_type": "stream",
          "text": [
            "0.0\n"
          ],
          "name": "stdout"
        }
      ]
    },
    {
      "cell_type": "code",
      "metadata": {
        "id": "aIZj2kL-5mb2",
        "colab_type": "code",
        "outputId": "08501217-4c50-4377-abe1-b81d0e94e895",
        "colab": {
          "base_uri": "https://localhost:8080/",
          "height": 34
        }
      },
      "source": [
        "# Determine and Print False Negative Rate or Type II Error (How many positive observations have been classified as negative?)\n",
        "tn, fp, fn, tp = confusion_matrix(y_true, y_pred).ravel()\n",
        "false_negative_rate = fp / (fp + tn)\n",
        "print (false_negative_rate)"
      ],
      "execution_count": 66,
      "outputs": [
        {
          "output_type": "stream",
          "text": [
            "0.0\n"
          ],
          "name": "stdout"
        }
      ]
    },
    {
      "cell_type": "code",
      "metadata": {
        "id": "8RHV-z1P5-E3",
        "colab_type": "code",
        "outputId": "b1162798-066a-44a2-9f98-64616134b860",
        "colab": {
          "base_uri": "https://localhost:8080/",
          "height": 34
        }
      },
      "source": [
        "# Determine and Print True Negative Rate or Specificity (how many observations out of all negative observations have been classified as negative?)\n",
        "tn, fp, fn, tp = confusion_matrix(y_true, y_pred).ravel()\n",
        "true_negative_rate = tn / (tn + fp)\n",
        "print (true_negative_rate)"
      ],
      "execution_count": 67,
      "outputs": [
        {
          "output_type": "stream",
          "text": [
            "1.0\n"
          ],
          "name": "stdout"
        }
      ]
    },
    {
      "cell_type": "code",
      "metadata": {
        "id": "UKU7tiBQ6Zar",
        "colab_type": "code",
        "outputId": "03da5654-c96a-48a6-83ec-b80e59b1cb7e",
        "colab": {
          "base_uri": "https://localhost:8080/",
          "height": 34
        }
      },
      "source": [
        "# Determine and Print Negative Predictive Value (Precision for negative class; how many predictions out of all negative predictions were correct?)\n",
        "tn, fp, fn, tp = confusion_matrix(y_true, y_pred).ravel()\n",
        "negative_predictive_value = tn/ (tn + fn)\n",
        "print (negative_predictive_value)"
      ],
      "execution_count": 68,
      "outputs": [
        {
          "output_type": "stream",
          "text": [
            "1.0\n"
          ],
          "name": "stdout"
        }
      ]
    },
    {
      "cell_type": "code",
      "metadata": {
        "id": "pbRXzD5k7Fnm",
        "colab_type": "code",
        "outputId": "9bc6fb26-b907-4e46-d769-b062bb773493",
        "colab": {
          "base_uri": "https://localhost:8080/",
          "height": 34
        }
      },
      "source": [
        "# Determine and Print False Discovery Rate (1-Precision; how many predictions out of all positive predictions were incorrect?)\n",
        "tn, fp, fn, tp = confusion_matrix(y_true, y_pred).ravel()\n",
        "false_discovery_rate = fp/ (tp + fp)\n",
        "print (false_discovery_rate)"
      ],
      "execution_count": 69,
      "outputs": [
        {
          "output_type": "stream",
          "text": [
            "0.0\n"
          ],
          "name": "stdout"
        }
      ]
    },
    {
      "cell_type": "code",
      "metadata": {
        "id": "VvmJE3oY7Zlz",
        "colab_type": "code",
        "outputId": "06b56d66-0495-4867-9163-dcf081bcbd20",
        "colab": {
          "base_uri": "https://localhost:8080/",
          "height": 34
        }
      },
      "source": [
        "# Determine and Print Cohen kappa metric (Cohen Kappa tells you how much better is your model over the random classifier that predicts based on class frequencies)\n",
        "from sklearn.metrics import cohen_kappa_score\n",
        "cohen_kappa_score(y_true, y_pred)"
      ],
      "execution_count": 70,
      "outputs": [
        {
          "output_type": "execute_result",
          "data": {
            "text/plain": [
              "1.0"
            ]
          },
          "metadata": {
            "tags": []
          },
          "execution_count": 70
        }
      ]
    },
    {
      "cell_type": "code",
      "metadata": {
        "id": "k_xHW5Aj-myQ",
        "colab_type": "code",
        "outputId": "41f97b24-8822-4692-e14f-330495592df5",
        "colab": {
          "base_uri": "https://localhost:8080/",
          "height": 34
        }
      },
      "source": [
        "# Determine and Print Matthews Correlation Coefficient MCC (). It’s a correlation between predicted classes and ground truth.\n",
        "from sklearn.metrics import matthews_corrcoef\n",
        "matthews_corrcoef(y_true, y_pred)"
      ],
      "execution_count": 71,
      "outputs": [
        {
          "output_type": "execute_result",
          "data": {
            "text/plain": [
              "1.0"
            ]
          },
          "metadata": {
            "tags": []
          },
          "execution_count": 71
        }
      ]
    },
    {
      "cell_type": "code",
      "metadata": {
        "id": "DjNr-fii-4u8",
        "colab_type": "code",
        "outputId": "d7ab6ab3-98c8-48a2-8a7b-9622c56c07d7",
        "colab": {
          "base_uri": "https://localhost:8080/",
          "height": 34
        }
      },
      "source": [
        "# Determine and Print Average precision score (PR AUC Score). Precision-Recall (PR) is a curve that combines Precision (PPV) and Recall (TPR) in a single visualization. Average Precision Score is the area under the PR Curve.\n",
        "from sklearn.metrics import average_precision_score\n",
        "average_precision_score(y_true, y_pred)"
      ],
      "execution_count": 72,
      "outputs": [
        {
          "output_type": "execute_result",
          "data": {
            "text/plain": [
              "1.0"
            ]
          },
          "metadata": {
            "tags": []
          },
          "execution_count": 72
        }
      ]
    },
    {
      "cell_type": "code",
      "metadata": {
        "id": "MetgPJGsBR8W",
        "colab_type": "code",
        "outputId": "8c9aadb2-e2fd-4f43-df5a-42565f56ff57",
        "colab": {
          "base_uri": "https://localhost:8080/",
          "height": 34
        }
      },
      "source": [
        "# Determine and Print Log loss (t.ly/w8ZyE, Binary Crossentropic loss)\n",
        "from sklearn.metrics import log_loss\n",
        "log_loss (y_true, y_pred)"
      ],
      "execution_count": 73,
      "outputs": [
        {
          "output_type": "execute_result",
          "data": {
            "text/plain": [
              "9.992007221626413e-16"
            ]
          },
          "metadata": {
            "tags": []
          },
          "execution_count": 73
        }
      ]
    },
    {
      "cell_type": "code",
      "metadata": {
        "id": "EWUGbT8qB7vA",
        "colab_type": "code",
        "outputId": "90f6edf4-73ea-417f-9a34-5e081b16e13b",
        "colab": {
          "base_uri": "https://localhost:8080/",
          "height": 34
        }
      },
      "source": [
        "# Determine and Print Brier score (It is a measure of how far your predictions lie from the true values)\n",
        "from sklearn.metrics import brier_score_loss\n",
        "brier_score_loss(y_true, y_pred)"
      ],
      "execution_count": 74,
      "outputs": [
        {
          "output_type": "execute_result",
          "data": {
            "text/plain": [
              "0.0"
            ]
          },
          "metadata": {
            "tags": []
          },
          "execution_count": 74
        }
      ]
    },
    {
      "cell_type": "code",
      "metadata": {
        "id": "bXxz5f6QLngB",
        "colab_type": "code",
        "colab": {
          "base_uri": "https://localhost:8080/",
          "height": 550
        },
        "outputId": "d08c0c04-df2f-43a3-d746-5bc61b630470"
      },
      "source": [
        "#import scikitplot\n",
        "!pip install scikit-plot\n",
        "import scikitplot as skplt\n",
        "skplt.metrics.plot_confusion_matrix(y_true, y_pred)\n",
        "plt.show()"
      ],
      "execution_count": 77,
      "outputs": [
        {
          "output_type": "stream",
          "text": [
            "Collecting scikit-plot\n",
            "  Downloading https://files.pythonhosted.org/packages/7c/47/32520e259340c140a4ad27c1b97050dd3254fdc517b1d59974d47037510e/scikit_plot-0.3.7-py3-none-any.whl\n",
            "Requirement already satisfied: scipy>=0.9 in /usr/local/lib/python3.6/dist-packages (from scikit-plot) (1.4.1)\n",
            "Requirement already satisfied: joblib>=0.10 in /usr/local/lib/python3.6/dist-packages (from scikit-plot) (0.14.1)\n",
            "Requirement already satisfied: matplotlib>=1.4.0 in /usr/local/lib/python3.6/dist-packages (from scikit-plot) (3.1.2)\n",
            "Requirement already satisfied: scikit-learn>=0.18 in /usr/local/lib/python3.6/dist-packages (from scikit-plot) (0.22.1)\n",
            "Requirement already satisfied: numpy>=1.13.3 in /usr/local/lib/python3.6/dist-packages (from scipy>=0.9->scikit-plot) (1.17.5)\n",
            "Requirement already satisfied: cycler>=0.10 in /usr/local/lib/python3.6/dist-packages (from matplotlib>=1.4.0->scikit-plot) (0.10.0)\n",
            "Requirement already satisfied: pyparsing!=2.0.4,!=2.1.2,!=2.1.6,>=2.0.1 in /usr/local/lib/python3.6/dist-packages (from matplotlib>=1.4.0->scikit-plot) (2.4.6)\n",
            "Requirement already satisfied: python-dateutil>=2.1 in /usr/local/lib/python3.6/dist-packages (from matplotlib>=1.4.0->scikit-plot) (2.6.1)\n",
            "Requirement already satisfied: kiwisolver>=1.0.1 in /usr/local/lib/python3.6/dist-packages (from matplotlib>=1.4.0->scikit-plot) (1.1.0)\n",
            "Requirement already satisfied: six in /usr/local/lib/python3.6/dist-packages (from cycler>=0.10->matplotlib>=1.4.0->scikit-plot) (1.12.0)\n",
            "Requirement already satisfied: setuptools in /usr/local/lib/python3.6/dist-packages (from kiwisolver>=1.0.1->matplotlib>=1.4.0->scikit-plot) (42.0.2)\n",
            "Installing collected packages: scikit-plot\n",
            "Successfully installed scikit-plot-0.3.7\n"
          ],
          "name": "stdout"
        },
        {
          "output_type": "display_data",
          "data": {
            "image/png": "[encoded data removed]",
            "text/plain": [
              "<Figure size 432x288 with 2 Axes>"
            ]
          },
          "metadata": {
            "tags": []
          }
        }
      ]
    },
    {
      "cell_type": "code",
      "metadata": {
        "id": "bAP8ogdT2dvI",
        "colab_type": "code",
        "colab": {
          "base_uri": "https://localhost:8080/",
          "height": 34
        },
        "outputId": "b3f6d10c-7662-4e9e-ba8c-6a5716a6bd9e"
      },
      "source": [
        "# Determine and Print Kolmogorov-Smirnov statistic (If there is a threshold for which all observations above are truly positive and all observations below are truly negative we get a perfect KS statistic of 1.0.)\n",
        "from scikitplot.helpers import binary_ks_curve \n",
        "res = binary_ks_curve(y_true, y_pred)\n",
        "ks_stat = res[3]\n",
        "print (ks_stat)"
      ],
      "execution_count": 78,
      "outputs": [
        {
          "output_type": "stream",
          "text": [
            "1.0\n"
          ],
          "name": "stdout"
        }
      ]
    }
  ]
}