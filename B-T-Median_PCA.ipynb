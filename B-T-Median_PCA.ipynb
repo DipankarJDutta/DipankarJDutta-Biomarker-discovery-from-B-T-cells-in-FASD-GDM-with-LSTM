{
  "nbformat": 4,
  "nbformat_minor": 0,
  "metadata": {
    "colab": {
      "name": "LSTM_B-T-Median_weights and Biases.ipynb",
      "provenance": [],
      "authorship_tag": "ABX9TyNFq4ZmDBHSmVc05KP0KYNL",
      "include_colab_link": true
    },
    "kernelspec": {
      "name": "python3",
      "display_name": "Python 3"
    },
    "accelerator": "TPU"
  },
  "cells": [
    {
      "cell_type": "markdown",
      "metadata": {
        "id": "view-in-github",
        "colab_type": "text"
      },
      "source": [
        "<a href=\"https://colab.research.google.com/github/DipankarJDutta/DipankarJDutta-Biomarker-discovery-from-B-T-cells-in-FASD-GDM-with-LSTM/blob/Peering-inside-the-Black-Box/B-T-Median_PCA.ipynb\" target=\"_parent\"><img src=\"https://colab.research.google.com/assets/colab-badge.svg\" alt=\"Open In Colab\"/></a>"
      ]
    },
    {
      "cell_type": "code",
      "metadata": {
        "id": "zN3LIBHE9XH0",
        "colab_type": "code",
        "colab": {}
      },
      "source": [
        "# Fixing random seed to 007 for reproducibility\n",
        "from numpy.random import seed\n",
        "seed(7)\n",
        "from tensorflow import set_random_seed\n",
        "set_random_seed(7)"
      ],
      "execution_count": 0,
      "outputs": []
    },
    {
      "cell_type": "code",
      "metadata": {
        "id": "MfPN8Hkp_22L",
        "colab_type": "code",
        "colab": {}
      },
      "source": [
        "# Loading essentials\n",
        "import matplotlib.pyplot as plt\n",
        "import pandas as pd\n",
        "import numpy as np\n",
        "import seaborn as sns\n",
        "from numpy import loadtxt\n",
        "%matplotlib inline"
      ],
      "execution_count": 0,
      "outputs": []
    },
    {
      "cell_type": "code",
      "metadata": {
        "id": "XMq2vKCJNlmL",
        "colab_type": "code",
        "colab": {
          "base_uri": "https://localhost:8080/",
          "height": 326
        },
        "outputId": "09073513-915d-4423-b4ba-1f50f93b9866"
      },
      "source": [
        "# Load dataset into panada dataframe\n",
        "df = pd.read_csv('B-T-median_+col-names_+learner-type.csv')\n",
        "df.head()"
      ],
      "execution_count": 26,
      "outputs": [
        {
          "output_type": "execute_result",
          "data": {
            "text/html": [
              "<div>\n",
              "<style scoped>\n",
              "    .dataframe tbody tr th:only-of-type {\n",
              "        vertical-align: middle;\n",
              "    }\n",
              "\n",
              "    .dataframe tbody tr th {\n",
              "        vertical-align: top;\n",
              "    }\n",
              "\n",
              "    .dataframe thead th {\n",
              "        text-align: right;\n",
              "    }\n",
              "</style>\n",
              "<table border=\"1\" class=\"dataframe\">\n",
              "  <thead>\n",
              "    <tr style=\"text-align: right;\">\n",
              "      <th></th>\n",
              "      <th>Tnfaip3</th>\n",
              "      <th>Chchd7</th>\n",
              "      <th>Gnas</th>\n",
              "      <th>Pld4</th>\n",
              "      <th>Rasa1</th>\n",
              "      <th>Dapp1</th>\n",
              "      <th>Mtpap</th>\n",
              "      <th>Ttc3</th>\n",
              "      <th>Stk38</th>\n",
              "      <th>Ets1</th>\n",
              "      <th>Rars2</th>\n",
              "      <th>Wdr43</th>\n",
              "      <th>Bin1</th>\n",
              "      <th>Brox</th>\n",
              "      <th>Ddx50</th>\n",
              "      <th>Kdm7a</th>\n",
              "      <th>Mapk9</th>\n",
              "      <th>Ms4a6b</th>\n",
              "      <th>Zfp639</th>\n",
              "      <th>Celf2</th>\n",
              "      <th>Setdb2</th>\n",
              "      <th>2310001H17Rik</th>\n",
              "      <th>Umps</th>\n",
              "      <th>Tcrg-C4</th>\n",
              "      <th>Ptcd3</th>\n",
              "      <th>Ets1.1</th>\n",
              "      <th>Wac</th>\n",
              "      <th>Tvp23b</th>\n",
              "      <th>Usp15</th>\n",
              "      <th>Learner</th>\n",
              "    </tr>\n",
              "  </thead>\n",
              "  <tbody>\n",
              "    <tr>\n",
              "      <th>0</th>\n",
              "      <td>0.361</td>\n",
              "      <td>0.723</td>\n",
              "      <td>0.802</td>\n",
              "      <td>1.000</td>\n",
              "      <td>1.000</td>\n",
              "      <td>0.904</td>\n",
              "      <td>0.285</td>\n",
              "      <td>0.827</td>\n",
              "      <td>0.867</td>\n",
              "      <td>0.527</td>\n",
              "      <td>1.0</td>\n",
              "      <td>0.627</td>\n",
              "      <td>1.000</td>\n",
              "      <td>0.456</td>\n",
              "      <td>1.000</td>\n",
              "      <td>0.393</td>\n",
              "      <td>0.658</td>\n",
              "      <td>0.468</td>\n",
              "      <td>0.197</td>\n",
              "      <td>1.000</td>\n",
              "      <td>0.675</td>\n",
              "      <td>1.000</td>\n",
              "      <td>0.659</td>\n",
              "      <td>0.148</td>\n",
              "      <td>0.743</td>\n",
              "      <td>0.638</td>\n",
              "      <td>0.956</td>\n",
              "      <td>0.379</td>\n",
              "      <td>0.833</td>\n",
              "      <td>Good-learner</td>\n",
              "    </tr>\n",
              "    <tr>\n",
              "      <th>1</th>\n",
              "      <td>0.692</td>\n",
              "      <td>0.676</td>\n",
              "      <td>0.686</td>\n",
              "      <td>1.000</td>\n",
              "      <td>0.720</td>\n",
              "      <td>0.903</td>\n",
              "      <td>0.255</td>\n",
              "      <td>0.833</td>\n",
              "      <td>0.780</td>\n",
              "      <td>0.515</td>\n",
              "      <td>1.0</td>\n",
              "      <td>0.283</td>\n",
              "      <td>0.586</td>\n",
              "      <td>0.516</td>\n",
              "      <td>0.788</td>\n",
              "      <td>0.581</td>\n",
              "      <td>0.000</td>\n",
              "      <td>0.000</td>\n",
              "      <td>0.000</td>\n",
              "      <td>0.000</td>\n",
              "      <td>0.000</td>\n",
              "      <td>0.000</td>\n",
              "      <td>0.000</td>\n",
              "      <td>0.000</td>\n",
              "      <td>0.000</td>\n",
              "      <td>0.000</td>\n",
              "      <td>0.000</td>\n",
              "      <td>0.000</td>\n",
              "      <td>0.000</td>\n",
              "      <td>Good-learner</td>\n",
              "    </tr>\n",
              "    <tr>\n",
              "      <th>2</th>\n",
              "      <td>1.000</td>\n",
              "      <td>1.000</td>\n",
              "      <td>0.711</td>\n",
              "      <td>0.805</td>\n",
              "      <td>0.809</td>\n",
              "      <td>1.000</td>\n",
              "      <td>0.614</td>\n",
              "      <td>1.000</td>\n",
              "      <td>1.000</td>\n",
              "      <td>1.000</td>\n",
              "      <td>1.0</td>\n",
              "      <td>0.791</td>\n",
              "      <td>1.000</td>\n",
              "      <td>0.239</td>\n",
              "      <td>0.582</td>\n",
              "      <td>1.000</td>\n",
              "      <td>0.000</td>\n",
              "      <td>0.000</td>\n",
              "      <td>0.000</td>\n",
              "      <td>0.000</td>\n",
              "      <td>0.000</td>\n",
              "      <td>0.000</td>\n",
              "      <td>0.000</td>\n",
              "      <td>0.000</td>\n",
              "      <td>0.000</td>\n",
              "      <td>0.000</td>\n",
              "      <td>0.000</td>\n",
              "      <td>0.000</td>\n",
              "      <td>0.000</td>\n",
              "      <td>Bad -learner</td>\n",
              "    </tr>\n",
              "    <tr>\n",
              "      <th>3</th>\n",
              "      <td>0.458</td>\n",
              "      <td>0.610</td>\n",
              "      <td>1.000</td>\n",
              "      <td>1.000</td>\n",
              "      <td>0.607</td>\n",
              "      <td>0.958</td>\n",
              "      <td>1.000</td>\n",
              "      <td>0.262</td>\n",
              "      <td>0.915</td>\n",
              "      <td>0.716</td>\n",
              "      <td>1.0</td>\n",
              "      <td>0.797</td>\n",
              "      <td>0.764</td>\n",
              "      <td>1.000</td>\n",
              "      <td>0.874</td>\n",
              "      <td>0.316</td>\n",
              "      <td>0.832</td>\n",
              "      <td>0.742</td>\n",
              "      <td>1.000</td>\n",
              "      <td>0.942</td>\n",
              "      <td>0.778</td>\n",
              "      <td>1.000</td>\n",
              "      <td>0.592</td>\n",
              "      <td>0.000</td>\n",
              "      <td>0.918</td>\n",
              "      <td>0.760</td>\n",
              "      <td>0.868</td>\n",
              "      <td>1.000</td>\n",
              "      <td>0.914</td>\n",
              "      <td>Bad -learner</td>\n",
              "    </tr>\n",
              "    <tr>\n",
              "      <th>4</th>\n",
              "      <td>0.294</td>\n",
              "      <td>0.723</td>\n",
              "      <td>1.000</td>\n",
              "      <td>0.991</td>\n",
              "      <td>0.367</td>\n",
              "      <td>0.670</td>\n",
              "      <td>0.705</td>\n",
              "      <td>0.776</td>\n",
              "      <td>0.748</td>\n",
              "      <td>0.578</td>\n",
              "      <td>1.0</td>\n",
              "      <td>0.283</td>\n",
              "      <td>0.422</td>\n",
              "      <td>0.790</td>\n",
              "      <td>0.704</td>\n",
              "      <td>0.447</td>\n",
              "      <td>0.355</td>\n",
              "      <td>0.243</td>\n",
              "      <td>0.087</td>\n",
              "      <td>0.849</td>\n",
              "      <td>0.588</td>\n",
              "      <td>0.564</td>\n",
              "      <td>0.478</td>\n",
              "      <td>0.000</td>\n",
              "      <td>1.000</td>\n",
              "      <td>0.572</td>\n",
              "      <td>0.831</td>\n",
              "      <td>1.000</td>\n",
              "      <td>0.719</td>\n",
              "      <td>Good-learner</td>\n",
              "    </tr>\n",
              "  </tbody>\n",
              "</table>\n",
              "</div>"
            ],
            "text/plain": [
              "   Tnfaip3  Chchd7   Gnas   Pld4  ...    Wac  Tvp23b  Usp15       Learner\n",
              "0    0.361   0.723  0.802  1.000  ...  0.956   0.379  0.833  Good-learner\n",
              "1    0.692   0.676  0.686  1.000  ...  0.000   0.000  0.000  Good-learner\n",
              "2    1.000   1.000  0.711  0.805  ...  0.000   0.000  0.000  Bad -learner\n",
              "3    0.458   0.610  1.000  1.000  ...  0.868   1.000  0.914  Bad -learner\n",
              "4    0.294   0.723  1.000  0.991  ...  0.831   1.000  0.719  Good-learner\n",
              "\n",
              "[5 rows x 30 columns]"
            ]
          },
          "metadata": {
            "tags": []
          },
          "execution_count": 26
        }
      ]
    },
    {
      "cell_type": "code",
      "metadata": {
        "id": "-lFvAPFAJ48S",
        "colab_type": "code",
        "colab": {}
      },
      "source": [
        "# Define variables\n",
        "variables = ['Tnfaip3', 'Chchd7', 'Gnas', 'Pld4', 'Rasa1', 'Dapp1', 'Mtpap', 'Ttc3', 'Stk38', 'Ets1', 'Rars2', 'Wdr43', 'Bin1', 'Brox', 'Ddx50', 'Kdm7a', 'Mapk9', 'Ms4a6b', 'Zfp639', 'Celf2', 'Setdb2', '2310001H17Rik', 'Umps', 'Tcrg-C4', 'Ptcd3', 'Ets1', 'Wac', 'Tvp23b', 'Usp15']\n",
        "x = df.loc[:, variables].values\n",
        "y = df.loc[:, ['Learner']].values\n",
        "\n",
        "#Convert x into a panda dataframe\n",
        "x = pd.DataFrame(x)\n"
      ],
      "execution_count": 0,
      "outputs": []
    },
    {
      "cell_type": "code",
      "metadata": {
        "id": "52fc7cacIVlZ",
        "colab_type": "code",
        "colab": {
          "base_uri": "https://localhost:8080/",
          "height": 204
        },
        "outputId": "3f304b49-c863-4c45-8972-2f65289e9ba6"
      },
      "source": [
        "#Perform PCA\n",
        "from sklearn.decomposition import PCA\n",
        "pca = PCA(n_components=2)\n",
        "x_pca = pca.fit_transform(x)\n",
        "x_pca = pd.DataFrame(x_pca)\n",
        "x_pca.head()"
      ],
      "execution_count": 28,
      "outputs": [
        {
          "output_type": "execute_result",
          "data": {
            "text/html": [
              "<div>\n",
              "<style scoped>\n",
              "    .dataframe tbody tr th:only-of-type {\n",
              "        vertical-align: middle;\n",
              "    }\n",
              "\n",
              "    .dataframe tbody tr th {\n",
              "        vertical-align: top;\n",
              "    }\n",
              "\n",
              "    .dataframe thead th {\n",
              "        text-align: right;\n",
              "    }\n",
              "</style>\n",
              "<table border=\"1\" class=\"dataframe\">\n",
              "  <thead>\n",
              "    <tr style=\"text-align: right;\">\n",
              "      <th></th>\n",
              "      <th>0</th>\n",
              "      <th>1</th>\n",
              "    </tr>\n",
              "  </thead>\n",
              "  <tbody>\n",
              "    <tr>\n",
              "      <th>0</th>\n",
              "      <td>-0.020933</td>\n",
              "      <td>0.294515</td>\n",
              "    </tr>\n",
              "    <tr>\n",
              "      <th>1</th>\n",
              "      <td>2.317600</td>\n",
              "      <td>0.455315</td>\n",
              "    </tr>\n",
              "    <tr>\n",
              "      <th>2</th>\n",
              "      <td>2.322339</td>\n",
              "      <td>-0.395316</td>\n",
              "    </tr>\n",
              "    <tr>\n",
              "      <th>3</th>\n",
              "      <td>-0.648778</td>\n",
              "      <td>0.105842</td>\n",
              "    </tr>\n",
              "    <tr>\n",
              "      <th>4</th>\n",
              "      <td>0.203962</td>\n",
              "      <td>0.637994</td>\n",
              "    </tr>\n",
              "  </tbody>\n",
              "</table>\n",
              "</div>"
            ],
            "text/plain": [
              "          0         1\n",
              "0 -0.020933  0.294515\n",
              "1  2.317600  0.455315\n",
              "2  2.322339 -0.395316\n",
              "3 -0.648778  0.105842\n",
              "4  0.203962  0.637994"
            ]
          },
          "metadata": {
            "tags": []
          },
          "execution_count": 28
        }
      ]
    },
    {
      "cell_type": "code",
      "metadata": {
        "id": "cQkayUCZMgPE",
        "colab_type": "code",
        "colab": {
          "base_uri": "https://localhost:8080/",
          "height": 34
        },
        "outputId": "fb7ecf40-f51e-4bec-e3ec-f16e31aa52a1"
      },
      "source": [
        "# How much of the variance is explained by each of the two principal components? \n",
        "explained_variance = pca.explained_variance_ratio_\n",
        "explained_variance"
      ],
      "execution_count": 29,
      "outputs": [
        {
          "output_type": "execute_result",
          "data": {
            "text/plain": [
              "array([0.34554036, 0.26125793])"
            ]
          },
          "metadata": {
            "tags": []
          },
          "execution_count": 29
        }
      ]
    }
  ]
}