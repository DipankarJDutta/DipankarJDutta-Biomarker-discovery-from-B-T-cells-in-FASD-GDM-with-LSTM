{
  "nbformat": 4,
  "nbformat_minor": 0,
  "metadata": {
    "colab": {
      "name": "LSTM_B-T-Median.ipynb",
      "provenance": [],
      "authorship_tag": "ABX9TyMN3eVnsGQ2o7YyWlxJBebH",
      "include_colab_link": true
    },
    "kernelspec": {
      "name": "python3",
      "display_name": "Python 3"
    }
  },
  "cells": [
    {
      "cell_type": "markdown",
      "metadata": {
        "id": "view-in-github",
        "colab_type": "text"
      },
      "source": [
        "<a href=\"https://colab.research.google.com/github/DipankarJDutta/DipankarJDutta-Biomarker-discovery-from-B-T-cells-in-FASD-GDM-with-LSTM/blob/Visualisation/LSTM_B_T_Median_optimized-model_wandb_no%20seed.ipynb\" target=\"_parent\"><img src=\"https://colab.research.google.com/assets/colab-badge.svg\" alt=\"Open In Colab\"/></a>"
      ]
    },
    {
      "cell_type": "code",
      "metadata": {
        "id": "MfPN8Hkp_22L",
        "colab_type": "code",
        "outputId": "0c2f61f8-1b14-428e-87f5-c0b356f47252",
        "colab": {
          "base_uri": "https://localhost:8080/",
          "height": 80
        }
      },
      "source": [
        "# Loading essentials\n",
        "import numpy as np\n",
        "from numpy import loadtxt\n",
        "from numpy import reshape\n",
        "from numpy import array\n",
        "from keras.models import Sequential\n",
        "from keras.layers import LSTM\n",
        "from keras.layers import Dense"
      ],
      "execution_count": 0,
      "outputs": [
        {
          "output_type": "stream",
          "text": [
            "Using TensorFlow backend.\n"
          ],
          "name": "stderr"
        },
        {
          "output_type": "display_data",
          "data": {
            "text/html": [
              "<p style=\"color: red;\">\n",
              "The default version of TensorFlow in Colab will soon switch to TensorFlow 2.x.<br>\n",
              "We recommend you <a href=\"https://www.tensorflow.org/guide/migrate\" target=\"_blank\">upgrade</a> now \n",
              "or ensure your notebook will continue to use TensorFlow 1.x via the <code>%tensorflow_version 1.x</code> magic:\n",
              "<a href=\"https://colab.research.google.com/notebooks/tensorflow_version.ipynb\" target=\"_blank\">more info</a>.</p>\n"
            ],
            "text/plain": [
              "<IPython.core.display.HTML object>"
            ]
          },
          "metadata": {
            "tags": []
          }
        }
      ]
    },
    {
      "cell_type": "code",
      "metadata": {
        "id": "VSmJiZkHevlz",
        "colab_type": "code",
        "outputId": "30e9c9ad-0109-4a35-f536-118a14cb0507",
        "colab": {
          "base_uri": "https://localhost:8080/",
          "height": 1000
        }
      },
      "source": [
        "!pip install wandb\n",
        "from wandb import magic"
      ],
      "execution_count": 0,
      "outputs": [
        {
          "output_type": "stream",
          "text": [
            "Collecting wandb\n",
            "\u001b[?25l  Downloading https://files.pythonhosted.org/packages/42/90/01aa4391f9fb3ec00c1aaa0928b101c0a3a2ec337adac5000aa3c8983e15/wandb-0.8.21-py2.py3-none-any.whl (1.4MB)\n",
            "\r\u001b[K     |▎                               | 10kB 17.3MB/s eta 0:00:01\r\u001b[K     |▌                               | 20kB 6.3MB/s eta 0:00:01\r\u001b[K     |▊                               | 30kB 7.7MB/s eta 0:00:01\r\u001b[K     |█                               | 40kB 8.2MB/s eta 0:00:01\r\u001b[K     |█▏                              | 51kB 7.0MB/s eta 0:00:01\r\u001b[K     |█▌                              | 61kB 7.6MB/s eta 0:00:01\r\u001b[K     |█▊                              | 71kB 8.1MB/s eta 0:00:01\r\u001b[K     |██                              | 81kB 8.5MB/s eta 0:00:01\r\u001b[K     |██▏                             | 92kB 8.9MB/s eta 0:00:01\r\u001b[K     |██▍                             | 102kB 8.6MB/s eta 0:00:01\r\u001b[K     |██▋                             | 112kB 8.6MB/s eta 0:00:01\r\u001b[K     |███                             | 122kB 8.6MB/s eta 0:00:01\r\u001b[K     |███▏                            | 133kB 8.6MB/s eta 0:00:01\r\u001b[K     |███▍                            | 143kB 8.6MB/s eta 0:00:01\r\u001b[K     |███▋                            | 153kB 8.6MB/s eta 0:00:01\r\u001b[K     |███▉                            | 163kB 8.6MB/s eta 0:00:01\r\u001b[K     |████▏                           | 174kB 8.6MB/s eta 0:00:01\r\u001b[K     |████▍                           | 184kB 8.6MB/s eta 0:00:01\r\u001b[K     |████▋                           | 194kB 8.6MB/s eta 0:00:01\r\u001b[K     |████▉                           | 204kB 8.6MB/s eta 0:00:01\r\u001b[K     |█████                           | 215kB 8.6MB/s eta 0:00:01\r\u001b[K     |█████▎                          | 225kB 8.6MB/s eta 0:00:01\r\u001b[K     |█████▋                          | 235kB 8.6MB/s eta 0:00:01\r\u001b[K     |█████▉                          | 245kB 8.6MB/s eta 0:00:01\r\u001b[K     |██████                          | 256kB 8.6MB/s eta 0:00:01\r\u001b[K     |██████▎                         | 266kB 8.6MB/s eta 0:00:01\r\u001b[K     |██████▌                         | 276kB 8.6MB/s eta 0:00:01\r\u001b[K     |██████▉                         | 286kB 8.6MB/s eta 0:00:01\r\u001b[K     |███████                         | 296kB 8.6MB/s eta 0:00:01\r\u001b[K     |███████▎                        | 307kB 8.6MB/s eta 0:00:01\r\u001b[K     |███████▌                        | 317kB 8.6MB/s eta 0:00:01\r\u001b[K     |███████▊                        | 327kB 8.6MB/s eta 0:00:01\r\u001b[K     |████████                        | 337kB 8.6MB/s eta 0:00:01\r\u001b[K     |████████▎                       | 348kB 8.6MB/s eta 0:00:01\r\u001b[K     |████████▌                       | 358kB 8.6MB/s eta 0:00:01\r\u001b[K     |████████▊                       | 368kB 8.6MB/s eta 0:00:01\r\u001b[K     |█████████                       | 378kB 8.6MB/s eta 0:00:01\r\u001b[K     |█████████▏                      | 389kB 8.6MB/s eta 0:00:01\r\u001b[K     |█████████▌                      | 399kB 8.6MB/s eta 0:00:01\r\u001b[K     |█████████▊                      | 409kB 8.6MB/s eta 0:00:01\r\u001b[K     |██████████                      | 419kB 8.6MB/s eta 0:00:01\r\u001b[K     |██████████▏                     | 430kB 8.6MB/s eta 0:00:01\r\u001b[K     |██████████▍                     | 440kB 8.6MB/s eta 0:00:01\r\u001b[K     |██████████▋                     | 450kB 8.6MB/s eta 0:00:01\r\u001b[K     |███████████                     | 460kB 8.6MB/s eta 0:00:01\r\u001b[K     |███████████▏                    | 471kB 8.6MB/s eta 0:00:01\r\u001b[K     |███████████▍                    | 481kB 8.6MB/s eta 0:00:01\r\u001b[K     |███████████▋                    | 491kB 8.6MB/s eta 0:00:01\r\u001b[K     |███████████▉                    | 501kB 8.6MB/s eta 0:00:01\r\u001b[K     |████████████▏                   | 512kB 8.6MB/s eta 0:00:01\r\u001b[K     |████████████▍                   | 522kB 8.6MB/s eta 0:00:01\r\u001b[K     |████████████▋                   | 532kB 8.6MB/s eta 0:00:01\r\u001b[K     |████████████▉                   | 542kB 8.6MB/s eta 0:00:01\r\u001b[K     |█████████████                   | 552kB 8.6MB/s eta 0:00:01\r\u001b[K     |█████████████▎                  | 563kB 8.6MB/s eta 0:00:01\r\u001b[K     |█████████████▋                  | 573kB 8.6MB/s eta 0:00:01\r\u001b[K     |█████████████▉                  | 583kB 8.6MB/s eta 0:00:01\r\u001b[K     |██████████████                  | 593kB 8.6MB/s eta 0:00:01\r\u001b[K     |██████████████▎                 | 604kB 8.6MB/s eta 0:00:01\r\u001b[K     |██████████████▌                 | 614kB 8.6MB/s eta 0:00:01\r\u001b[K     |██████████████▉                 | 624kB 8.6MB/s eta 0:00:01\r\u001b[K     |███████████████                 | 634kB 8.6MB/s eta 0:00:01\r\u001b[K     |███████████████▎                | 645kB 8.6MB/s eta 0:00:01\r\u001b[K     |███████████████▌                | 655kB 8.6MB/s eta 0:00:01\r\u001b[K     |███████████████▊                | 665kB 8.6MB/s eta 0:00:01\r\u001b[K     |████████████████                | 675kB 8.6MB/s eta 0:00:01\r\u001b[K     |████████████████▎               | 686kB 8.6MB/s eta 0:00:01\r\u001b[K     |████████████████▌               | 696kB 8.6MB/s eta 0:00:01\r\u001b[K     |████████████████▊               | 706kB 8.6MB/s eta 0:00:01\r\u001b[K     |█████████████████               | 716kB 8.6MB/s eta 0:00:01\r\u001b[K     |█████████████████▏              | 727kB 8.6MB/s eta 0:00:01\r\u001b[K     |█████████████████▌              | 737kB 8.6MB/s eta 0:00:01\r\u001b[K     |█████████████████▊              | 747kB 8.6MB/s eta 0:00:01\r\u001b[K     |██████████████████              | 757kB 8.6MB/s eta 0:00:01\r\u001b[K     |██████████████████▏             | 768kB 8.6MB/s eta 0:00:01\r\u001b[K     |██████████████████▍             | 778kB 8.6MB/s eta 0:00:01\r\u001b[K     |██████████████████▋             | 788kB 8.6MB/s eta 0:00:01\r\u001b[K     |███████████████████             | 798kB 8.6MB/s eta 0:00:01\r\u001b[K     |███████████████████▏            | 808kB 8.6MB/s eta 0:00:01\r\u001b[K     |███████████████████▍            | 819kB 8.6MB/s eta 0:00:01\r\u001b[K     |███████████████████▋            | 829kB 8.6MB/s eta 0:00:01\r\u001b[K     |███████████████████▉            | 839kB 8.6MB/s eta 0:00:01\r\u001b[K     |████████████████████▏           | 849kB 8.6MB/s eta 0:00:01\r\u001b[K     |████████████████████▍           | 860kB 8.6MB/s eta 0:00:01\r\u001b[K     |████████████████████▋           | 870kB 8.6MB/s eta 0:00:01\r\u001b[K     |████████████████████▉           | 880kB 8.6MB/s eta 0:00:01\r\u001b[K     |█████████████████████           | 890kB 8.6MB/s eta 0:00:01\r\u001b[K     |█████████████████████▎          | 901kB 8.6MB/s eta 0:00:01\r\u001b[K     |█████████████████████▋          | 911kB 8.6MB/s eta 0:00:01\r\u001b[K     |█████████████████████▉          | 921kB 8.6MB/s eta 0:00:01\r\u001b[K     |██████████████████████          | 931kB 8.6MB/s eta 0:00:01\r\u001b[K     |██████████████████████▎         | 942kB 8.6MB/s eta 0:00:01\r\u001b[K     |██████████████████████▌         | 952kB 8.6MB/s eta 0:00:01\r\u001b[K     |██████████████████████▉         | 962kB 8.6MB/s eta 0:00:01\r\u001b[K     |███████████████████████         | 972kB 8.6MB/s eta 0:00:01\r\u001b[K     |███████████████████████▎        | 983kB 8.6MB/s eta 0:00:01\r\u001b[K     |███████████████████████▌        | 993kB 8.6MB/s eta 0:00:01\r\u001b[K     |███████████████████████▊        | 1.0MB 8.6MB/s eta 0:00:01\r\u001b[K     |████████████████████████        | 1.0MB 8.6MB/s eta 0:00:01\r\u001b[K     |████████████████████████▎       | 1.0MB 8.6MB/s eta 0:00:01\r\u001b[K     |████████████████████████▌       | 1.0MB 8.6MB/s eta 0:00:01\r\u001b[K     |████████████████████████▊       | 1.0MB 8.6MB/s eta 0:00:01\r\u001b[K     |█████████████████████████       | 1.1MB 8.6MB/s eta 0:00:01\r\u001b[K     |█████████████████████████▏      | 1.1MB 8.6MB/s eta 0:00:01\r\u001b[K     |█████████████████████████▌      | 1.1MB 8.6MB/s eta 0:00:01\r\u001b[K     |█████████████████████████▊      | 1.1MB 8.6MB/s eta 0:00:01\r\u001b[K     |██████████████████████████      | 1.1MB 8.6MB/s eta 0:00:01\r\u001b[K     |██████████████████████████▏     | 1.1MB 8.6MB/s eta 0:00:01\r\u001b[K     |██████████████████████████▍     | 1.1MB 8.6MB/s eta 0:00:01\r\u001b[K     |██████████████████████████▋     | 1.1MB 8.6MB/s eta 0:00:01\r\u001b[K     |███████████████████████████     | 1.1MB 8.6MB/s eta 0:00:01\r\u001b[K     |███████████████████████████▏    | 1.1MB 8.6MB/s eta 0:00:01\r\u001b[K     |███████████████████████████▍    | 1.2MB 8.6MB/s eta 0:00:01\r\u001b[K     |███████████████████████████▋    | 1.2MB 8.6MB/s eta 0:00:01\r\u001b[K     |███████████████████████████▉    | 1.2MB 8.6MB/s eta 0:00:01\r\u001b[K     |████████████████████████████▏   | 1.2MB 8.6MB/s eta 0:00:01\r\u001b[K     |████████████████████████████▍   | 1.2MB 8.6MB/s eta 0:00:01\r\u001b[K     |████████████████████████████▋   | 1.2MB 8.6MB/s eta 0:00:01\r\u001b[K     |████████████████████████████▉   | 1.2MB 8.6MB/s eta 0:00:01\r\u001b[K     |█████████████████████████████   | 1.2MB 8.6MB/s eta 0:00:01\r\u001b[K     |█████████████████████████████▎  | 1.2MB 8.6MB/s eta 0:00:01\r\u001b[K     |█████████████████████████████▋  | 1.2MB 8.6MB/s eta 0:00:01\r\u001b[K     |█████████████████████████████▉  | 1.3MB 8.6MB/s eta 0:00:01\r\u001b[K     |██████████████████████████████  | 1.3MB 8.6MB/s eta 0:00:01\r\u001b[K     |██████████████████████████████▎ | 1.3MB 8.6MB/s eta 0:00:01\r\u001b[K     |██████████████████████████████▌ | 1.3MB 8.6MB/s eta 0:00:01\r\u001b[K     |██████████████████████████████▉ | 1.3MB 8.6MB/s eta 0:00:01\r\u001b[K     |███████████████████████████████ | 1.3MB 8.6MB/s eta 0:00:01\r\u001b[K     |███████████████████████████████▎| 1.3MB 8.6MB/s eta 0:00:01\r\u001b[K     |███████████████████████████████▌| 1.3MB 8.6MB/s eta 0:00:01\r\u001b[K     |███████████████████████████████▊| 1.3MB 8.6MB/s eta 0:00:01\r\u001b[K     |████████████████████████████████| 1.4MB 8.6MB/s eta 0:00:01\r\u001b[K     |████████████████████████████████| 1.4MB 8.6MB/s \n",
            "\u001b[?25hRequirement already satisfied: python-dateutil>=2.6.1 in /usr/local/lib/python3.6/dist-packages (from wandb) (2.6.1)\n",
            "Requirement already satisfied: nvidia-ml-py3>=7.352.0 in /usr/local/lib/python3.6/dist-packages (from wandb) (7.352.0)\n",
            "Requirement already satisfied: psutil>=5.0.0 in /usr/local/lib/python3.6/dist-packages (from wandb) (5.4.8)\n",
            "Requirement already satisfied: six>=1.10.0 in /usr/local/lib/python3.6/dist-packages (from wandb) (1.12.0)\n",
            "Requirement already satisfied: requests>=2.0.0 in /usr/local/lib/python3.6/dist-packages (from wandb) (2.21.0)\n",
            "Collecting sentry-sdk>=0.4.0\n",
            "\u001b[?25l  Downloading https://files.pythonhosted.org/packages/23/5a/f1b0c63e40517b06bc21744a94013ca05de21de2687a59de889ea20a9ebd/sentry_sdk-0.14.1-py2.py3-none-any.whl (93kB)\n",
            "\u001b[K     |████████████████████████████████| 102kB 12.5MB/s \n",
            "\u001b[?25hCollecting gql==0.2.0\n",
            "  Downloading https://files.pythonhosted.org/packages/c4/6f/cf9a3056045518f06184e804bae89390eb706168349daa9dff8ac609962a/gql-0.2.0.tar.gz\n",
            "Requirement already satisfied: Click>=7.0 in /usr/local/lib/python3.6/dist-packages (from wandb) (7.0)\n",
            "Collecting shortuuid>=0.5.0\n",
            "  Downloading https://files.pythonhosted.org/packages/80/d7/2bfc9332e68d3e15ea97b9b1588b3899ad565120253d3fd71c8f7f13b4fe/shortuuid-0.5.0.tar.gz\n",
            "Collecting docker-pycreds>=0.4.0\n",
            "  Downloading https://files.pythonhosted.org/packages/f5/e8/f6bd1eee09314e7e6dee49cbe2c5e22314ccdb38db16c9fc72d2fa80d054/docker_pycreds-0.4.0-py2.py3-none-any.whl\n",
            "Collecting configparser>=3.8.1\n",
            "  Downloading https://files.pythonhosted.org/packages/7a/2a/95ed0501cf5d8709490b1d3a3f9b5cf340da6c433f896bbe9ce08dbe6785/configparser-4.0.2-py2.py3-none-any.whl\n",
            "Collecting subprocess32>=3.5.3\n",
            "\u001b[?25l  Downloading https://files.pythonhosted.org/packages/32/c8/564be4d12629b912ea431f1a50eb8b3b9d00f1a0b1ceff17f266be190007/subprocess32-3.5.4.tar.gz (97kB)\n",
            "\u001b[K     |████████████████████████████████| 102kB 12.5MB/s \n",
            "\u001b[?25hCollecting GitPython>=1.0.0\n",
            "\u001b[?25l  Downloading https://files.pythonhosted.org/packages/20/8c/4543981439d23c4ff65b2e62dddd767ebc84a8e664a9b67e840d1e2730d3/GitPython-3.0.5-py3-none-any.whl (455kB)\n",
            "\u001b[K     |████████████████████████████████| 460kB 45.9MB/s \n",
            "\u001b[?25hCollecting watchdog>=0.8.3\n",
            "\u001b[?25l  Downloading https://files.pythonhosted.org/packages/bb/e3/5a55d48a29300160779f0a0d2776d17c1b762a2039b36de528b093b87d5b/watchdog-0.9.0.tar.gz (85kB)\n",
            "\u001b[K     |████████████████████████████████| 92kB 11.9MB/s \n",
            "\u001b[?25hRequirement already satisfied: urllib3<1.25,>=1.21.1 in /usr/local/lib/python3.6/dist-packages (from requests>=2.0.0->wandb) (1.24.3)\n",
            "Requirement already satisfied: idna<2.9,>=2.5 in /usr/local/lib/python3.6/dist-packages (from requests>=2.0.0->wandb) (2.8)\n",
            "Requirement already satisfied: certifi>=2017.4.17 in /usr/local/lib/python3.6/dist-packages (from requests>=2.0.0->wandb) (2019.11.28)\n",
            "Requirement already satisfied: chardet<3.1.0,>=3.0.2 in /usr/local/lib/python3.6/dist-packages (from requests>=2.0.0->wandb) (3.0.4)\n",
            "Collecting graphql-core<2,>=0.5.0\n",
            "\u001b[?25l  Downloading https://files.pythonhosted.org/packages/b0/89/00ad5e07524d8c523b14d70c685e0299a8b0de6d0727e368c41b89b7ed0b/graphql-core-1.1.tar.gz (70kB)\n",
            "\u001b[K     |████████████████████████████████| 71kB 8.2MB/s \n",
            "\u001b[?25hRequirement already satisfied: promise<3,>=2.0 in /usr/local/lib/python3.6/dist-packages (from gql==0.2.0->wandb) (2.3)\n",
            "Collecting gitdb2>=2.0.0\n",
            "\u001b[?25l  Downloading https://files.pythonhosted.org/packages/03/6c/99296f89bad2ef85626e1df9f677acbee8885bb043ad82ad3ed4746d2325/gitdb2-2.0.6-py2.py3-none-any.whl (63kB)\n",
            "\u001b[K     |████████████████████████████████| 71kB 9.3MB/s \n",
            "\u001b[?25hRequirement already satisfied: PyYAML>=3.10 in /usr/local/lib/python3.6/dist-packages (from watchdog>=0.8.3->wandb) (3.13)\n",
            "Collecting argh>=0.24.1\n",
            "  Downloading https://files.pythonhosted.org/packages/06/1c/e667a7126f0b84aaa1c56844337bf0ac12445d1beb9c8a6199a7314944bf/argh-0.26.2-py2.py3-none-any.whl\n",
            "Collecting pathtools>=0.1.1\n",
            "  Downloading https://files.pythonhosted.org/packages/e7/7f/470d6fcdf23f9f3518f6b0b76be9df16dcc8630ad409947f8be2eb0ed13a/pathtools-0.1.2.tar.gz\n",
            "Collecting smmap2>=2.0.0\n",
            "  Downloading https://files.pythonhosted.org/packages/55/d2/866d45e3a121ee15a1dc013824d58072fd5c7799c9c34d01378eb262ca8f/smmap2-2.0.5-py2.py3-none-any.whl\n",
            "Building wheels for collected packages: gql, shortuuid, subprocess32, watchdog, graphql-core, pathtools\n",
            "  Building wheel for gql (setup.py) ... \u001b[?25l\u001b[?25hdone\n",
            "  Created wheel for gql: filename=gql-0.2.0-cp36-none-any.whl size=7630 sha256=a0cdd6580bc69cd345d88150562fbbd99d61b08c12b665cf918a7addd9a195f3\n",
            "  Stored in directory: /root/.cache/pip/wheels/ce/0e/7b/58a8a5268655b3ad74feef5aa97946f0addafb3cbb6bd2da23\n",
            "  Building wheel for shortuuid (setup.py) ... \u001b[?25l\u001b[?25hdone\n",
            "  Created wheel for shortuuid: filename=shortuuid-0.5.0-cp36-none-any.whl size=5499 sha256=e04339e765214c1aadf32002f3fff3c4a68c3f06a66ff354395b43d01f2909fa\n",
            "  Stored in directory: /root/.cache/pip/wheels/3f/eb/fd/69e5177f67b505e44acbd1aedfbe44b91768ee0c4cd5636576\n",
            "  Building wheel for subprocess32 (setup.py) ... \u001b[?25l\u001b[?25hdone\n",
            "  Created wheel for subprocess32: filename=subprocess32-3.5.4-cp36-none-any.whl size=6489 sha256=d9d40d119a0e3391481107ebb490daf713483f5f82b11d02dde72b08e16bee39\n",
            "  Stored in directory: /root/.cache/pip/wheels/68/39/1a/5e402bdfdf004af1786c8b853fd92f8c4a04f22aad179654d1\n",
            "  Building wheel for watchdog (setup.py) ... \u001b[?25l\u001b[?25hdone\n",
            "  Created wheel for watchdog: filename=watchdog-0.9.0-cp36-none-any.whl size=73652 sha256=ad17cf1c3eb20cd1362e1f4fe5cfca09e3cb834f4feb4e96b824a3c8e0975538\n",
            "  Stored in directory: /root/.cache/pip/wheels/61/1d/d0/04cfe495619be2095eb8d89a31c42adb4e42b76495bc8f784c\n",
            "  Building wheel for graphql-core (setup.py) ... \u001b[?25l\u001b[?25hdone\n",
            "  Created wheel for graphql-core: filename=graphql_core-1.1-cp36-none-any.whl size=104651 sha256=3c9951e62cf23c624eb75cedf8f47e254e4b17802ce6dcac334d81f00ba5412b\n",
            "  Stored in directory: /root/.cache/pip/wheels/45/99/d7/c424029bb0fe910c63b68dbf2aa20d3283d023042521bcd7d5\n",
            "  Building wheel for pathtools (setup.py) ... \u001b[?25l\u001b[?25hdone\n",
            "  Created wheel for pathtools: filename=pathtools-0.1.2-cp36-none-any.whl size=8786 sha256=3e7f53b4e37093fff7f21dad4775c5d2e1ce9f12f01988a7082e8d47d1cbbdde\n",
            "  Stored in directory: /root/.cache/pip/wheels/0b/04/79/c3b0c3a0266a3cb4376da31e5bfe8bba0c489246968a68e843\n",
            "Successfully built gql shortuuid subprocess32 watchdog graphql-core pathtools\n",
            "Installing collected packages: sentry-sdk, graphql-core, gql, shortuuid, docker-pycreds, configparser, subprocess32, smmap2, gitdb2, GitPython, argh, pathtools, watchdog, wandb\n",
            "Successfully installed GitPython-3.0.5 argh-0.26.2 configparser-4.0.2 docker-pycreds-0.4.0 gitdb2-2.0.6 gql-0.2.0 graphql-core-1.1 pathtools-0.1.2 sentry-sdk-0.14.1 shortuuid-0.5.0 smmap2-2.0.5 subprocess32-3.5.4 wandb-0.8.21 watchdog-0.9.0\n"
          ],
          "name": "stdout"
        },
        {
          "output_type": "display_data",
          "data": {
            "application/javascript": [
              "\n",
              "        window._wandbApiKey = new Promise((resolve, reject) => {\n",
              "            function loadScript(url) {\n",
              "            return new Promise(function(resolve, reject) {\n",
              "                let newScript = document.createElement(\"script\");\n",
              "                newScript.onerror = reject;\n",
              "                newScript.onload = resolve;\n",
              "                document.body.appendChild(newScript);\n",
              "                newScript.src = url;\n",
              "            });\n",
              "            }\n",
              "            loadScript(\"https://cdn.jsdelivr.net/npm/postmate/build/postmate.min.js\").then(() => {\n",
              "            const iframe = document.createElement('iframe')\n",
              "            iframe.style.cssText = \"width:0;height:0;border:none\"\n",
              "            document.body.appendChild(iframe)\n",
              "            const handshake = new Postmate({\n",
              "                container: iframe,\n",
              "                url: 'https://app.wandb.ai/authorize'\n",
              "            });\n",
              "            const timeout = setTimeout(() => reject(\"Couldn't auto authenticate\"), 5000)\n",
              "            handshake.then(function(child) {\n",
              "                child.on('authorize', data => {\n",
              "                    clearTimeout(timeout)\n",
              "                    resolve(data)\n",
              "                });\n",
              "            });\n",
              "            })\n",
              "        });\n",
              "    "
            ],
            "text/plain": [
              "<IPython.core.display.Javascript object>"
            ]
          },
          "metadata": {
            "tags": []
          }
        },
        {
          "output_type": "stream",
          "text": [
            "wandb: Appending key for api.wandb.ai to your netrc file: /root/.netrc\n"
          ],
          "name": "stderr"
        },
        {
          "output_type": "display_data",
          "data": {
            "text/html": [
              "\n",
              "                Logging results to <a href=\"https://wandb.com\" target=\"_blank\">Weights & Biases</a> <a href=\"https://docs.wandb.com/integrations/jupyter.html\" target=\"_blank\">(Documentation)</a>.<br/>\n",
              "                Project page: <a href=\"https://app.wandb.ai/dipankarjdutta/uncategorized\" target=\"_blank\">https://app.wandb.ai/dipankarjdutta/uncategorized</a><br/>\n",
              "                Run page: <a href=\"https://app.wandb.ai/dipankarjdutta/uncategorized/runs/xznksdpz\" target=\"_blank\">https://app.wandb.ai/dipankarjdutta/uncategorized/runs/xznksdpz</a><br/>\n",
              "            "
            ],
            "text/plain": [
              "<IPython.core.display.HTML object>"
            ]
          },
          "metadata": {
            "tags": []
          }
        }
      ]
    },
    {
      "cell_type": "code",
      "metadata": {
        "id": "XMq2vKCJNlmL",
        "colab_type": "code",
        "colab": {}
      },
      "source": [
        "# Load data\n",
        "dataset = loadtxt('B-T-median.csv', delimiter = ',')"
      ],
      "execution_count": 0,
      "outputs": []
    },
    {
      "cell_type": "code",
      "metadata": {
        "id": "Hf6EYfq1OSND",
        "colab_type": "code",
        "colab": {}
      },
      "source": [
        "# Reshape 2D dataset into a 3D dataset with columns as features with one time-step\n",
        "x = dataset.reshape(56, 1, 30)"
      ],
      "execution_count": 0,
      "outputs": []
    },
    {
      "cell_type": "code",
      "metadata": {
        "id": "TbfEdKabnlcK",
        "colab_type": "code",
        "colab": {}
      },
      "source": [
        "#Specify binary output of good (1) and bad (0) learners, y, in x. Learner type differentiated by population median.\n",
        "y = x [:, :, -1]"
      ],
      "execution_count": 0,
      "outputs": []
    },
    {
      "cell_type": "code",
      "metadata": {
        "id": "yBx8zDJlVjje",
        "colab_type": "code",
        "outputId": "e4f0956c-ccec-4a3e-f125-e12e448bf36a",
        "colab": {
          "base_uri": "https://localhost:8080/",
          "height": 139
        }
      },
      "source": [
        "# Define LSTM (One to One Model) with Sigmoid activation on the output layer for binary classification. Add Dropout to input layer to prevent overfitting between epochs 1-50 without dropout.\n",
        "model = Sequential()\n",
        "model.add(LSTM(3, input_shape=(1,30)))\n",
        "model.add(Dense(1, activation='sigmoid'))"
      ],
      "execution_count": 0,
      "outputs": [
        {
          "output_type": "stream",
          "text": [
            "WARNING:tensorflow:From /usr/local/lib/python3.6/dist-packages/keras/backend/tensorflow_backend.py:66: The name tf.get_default_graph is deprecated. Please use tf.compat.v1.get_default_graph instead.\n",
            "\n",
            "WARNING:tensorflow:From /usr/local/lib/python3.6/dist-packages/keras/backend/tensorflow_backend.py:541: The name tf.placeholder is deprecated. Please use tf.compat.v1.placeholder instead.\n",
            "\n",
            "WARNING:tensorflow:From /usr/local/lib/python3.6/dist-packages/keras/backend/tensorflow_backend.py:4432: The name tf.random_uniform is deprecated. Please use tf.random.uniform instead.\n",
            "\n"
          ],
          "name": "stdout"
        }
      ]
    },
    {
      "cell_type": "code",
      "metadata": {
        "id": "S1vO6vpKmAgb",
        "colab_type": "code",
        "outputId": "1c14d16d-3ef0-4b4c-a9f1-2a26f28b0b3d",
        "colab": {
          "base_uri": "https://localhost:8080/",
          "height": 156
        }
      },
      "source": [
        "#Compile the model \n",
        "model.compile(optimizer='adam', loss='binary_crossentropy', metrics=['accuracy'])"
      ],
      "execution_count": 0,
      "outputs": [
        {
          "output_type": "stream",
          "text": [
            "WARNING:tensorflow:From /usr/local/lib/python3.6/dist-packages/keras/optimizers.py:793: The name tf.train.Optimizer is deprecated. Please use tf.compat.v1.train.Optimizer instead.\n",
            "\n",
            "WARNING:tensorflow:From /usr/local/lib/python3.6/dist-packages/keras/backend/tensorflow_backend.py:3657: The name tf.log is deprecated. Please use tf.math.log instead.\n",
            "\n",
            "WARNING:tensorflow:From /usr/local/lib/python3.6/dist-packages/tensorflow_core/python/ops/nn_impl.py:183: where (from tensorflow.python.ops.array_ops) is deprecated and will be removed in a future version.\n",
            "Instructions for updating:\n",
            "Use tf.where in 2.0, which has the same broadcast rule as np.where\n"
          ],
          "name": "stdout"
        }
      ]
    },
    {
      "cell_type": "code",
      "metadata": {
        "id": "x30BNEbImxA5",
        "colab_type": "code",
        "outputId": "6f801f08-1bc7-49ea-ec52-12f98374bcb8",
        "colab": {
          "base_uri": "https://localhost:8080/",
          "height": 411
        }
      },
      "source": [
        "#Fit the model with a 80-20 split of dataset & shuffling sample order within an epoch\n",
        "history = model.fit(x, y, validation_split = 0.2, batch_size = 8, epochs = 1000, shuffle = True, verbose=0)"
      ],
      "execution_count": 0,
      "outputs": [
        {
          "output_type": "stream",
          "text": [
            "WARNING:tensorflow:From /usr/local/lib/python3.6/dist-packages/keras/backend/tensorflow_backend.py:1033: The name tf.assign_add is deprecated. Please use tf.compat.v1.assign_add instead.\n",
            "\n",
            "WARNING:tensorflow:From /usr/local/lib/python3.6/dist-packages/keras/backend/tensorflow_backend.py:1020: The name tf.assign is deprecated. Please use tf.compat.v1.assign instead.\n",
            "\n",
            "WARNING:tensorflow:From /usr/local/lib/python3.6/dist-packages/keras/backend/tensorflow_backend.py:3005: The name tf.Session is deprecated. Please use tf.compat.v1.Session instead.\n",
            "\n",
            "WARNING:tensorflow:From /usr/local/lib/python3.6/dist-packages/keras/backend/tensorflow_backend.py:190: The name tf.get_default_session is deprecated. Please use tf.compat.v1.get_default_session instead.\n",
            "\n",
            "WARNING:tensorflow:From /usr/local/lib/python3.6/dist-packages/keras/backend/tensorflow_backend.py:197: The name tf.ConfigProto is deprecated. Please use tf.compat.v1.ConfigProto instead.\n",
            "\n",
            "WARNING:tensorflow:From /usr/local/lib/python3.6/dist-packages/keras/backend/tensorflow_backend.py:207: The name tf.global_variables is deprecated. Please use tf.compat.v1.global_variables instead.\n",
            "\n",
            "WARNING:tensorflow:From /usr/local/lib/python3.6/dist-packages/keras/backend/tensorflow_backend.py:216: The name tf.is_variable_initialized is deprecated. Please use tf.compat.v1.is_variable_initialized instead.\n",
            "\n",
            "WARNING:tensorflow:From /usr/local/lib/python3.6/dist-packages/keras/backend/tensorflow_backend.py:223: The name tf.variables_initializer is deprecated. Please use tf.compat.v1.variables_initializer instead.\n",
            "\n",
            "WARNING:tensorflow:From /usr/local/lib/python3.6/dist-packages/keras/callbacks.py:1122: The name tf.summary.merge_all is deprecated. Please use tf.compat.v1.summary.merge_all instead.\n",
            "\n",
            "WARNING:tensorflow:From /usr/local/lib/python3.6/dist-packages/keras/callbacks.py:1125: The name tf.summary.FileWriter is deprecated. Please use tf.compat.v1.summary.FileWriter instead.\n",
            "\n",
            "WARNING:tensorflow:From /usr/local/lib/python3.6/dist-packages/keras/callbacks.py:1265: The name tf.Summary is deprecated. Please use tf.compat.v1.Summary instead.\n",
            "\n"
          ],
          "name": "stdout"
        }
      ]
    }
  ]
}